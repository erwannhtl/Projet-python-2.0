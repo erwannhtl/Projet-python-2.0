{
 "cells": [
  {
   "cell_type": "code",
   "execution_count": 1,
   "id": "af205613-259e-4932-9e28-f42a782ae628",
   "metadata": {},
   "outputs": [
    {
     "name": "stdout",
     "output_type": "stream",
     "text": [
      "Requirement already satisfied: panda in /opt/mamba/lib/python3.10/site-packages (0.3.1)\n",
      "Requirement already satisfied: openpyxl in /opt/mamba/lib/python3.10/site-packages (3.1.2)\n",
      "Requirement already satisfied: setuptools in /opt/mamba/lib/python3.10/site-packages (from panda) (68.1.2)\n",
      "Requirement already satisfied: requests in /opt/mamba/lib/python3.10/site-packages (from panda) (2.31.0)\n",
      "Requirement already satisfied: et-xmlfile in /opt/mamba/lib/python3.10/site-packages (from openpyxl) (1.1.0)\n",
      "Requirement already satisfied: charset-normalizer<4,>=2 in /opt/mamba/lib/python3.10/site-packages (from requests->panda) (3.2.0)\n",
      "Requirement already satisfied: idna<4,>=2.5 in /opt/mamba/lib/python3.10/site-packages (from requests->panda) (3.4)\n",
      "Requirement already satisfied: urllib3<3,>=1.21.1 in /opt/mamba/lib/python3.10/site-packages (from requests->panda) (1.26.18)\n",
      "Requirement already satisfied: certifi>=2017.4.17 in /opt/mamba/lib/python3.10/site-packages (from requests->panda) (2023.11.17)\n",
      "Note: you may need to restart the kernel to use updated packages.\n"
     ]
    }
   ],
   "source": [
    "pip install panda openpyxl"
   ]
  },
  {
   "cell_type": "code",
   "execution_count": 2,
   "id": "28cef7df-da37-4e04-963b-c5c6ebe9c0e8",
   "metadata": {},
   "outputs": [],
   "source": [
    "mon_dictionnaire = {\n",
    "    \"10 ans\" : ['10', '9-13','11-14','11-17','10-17'],\n",
    "    \"11 ans\" : ['11','9-13','11-14', '11-17','10-17'],\n",
    "    \"12 ans\" : ['12', '9-13','11-14','11-17','10-17'],\n",
    "    \"13 ans\": ['13', '9-13','11-14', '11-17','10-17'],\n",
    "    \"14 ans\" :['14','14-17','11-14', '11-17','10-17'],\n",
    "    \"15 ans\": ['15','14-17','15-17', '11-17','10-17'],\n",
    "    \"16 ans\": ['16','14-17','15-17', '11-17','10-17'],\n",
    "    \"17 ans\": ['17','14-17','15-17', '11-17','10-17'],\n",
    "    '18-29 ans': ['18–29', '18-24',\t'≥ 18'],\n",
    "    '30-39 ans': ['30–39',\t'≥ 18'],\n",
    "    '40-49 ans': ['40–49',\t'≥ 18'],\n",
    "    '50-59 ans': ['50–59',\t'≥ 18'],\n",
    "    '60-69 ans': ['60–69',\t'≥ 18'],\n",
    "    '70-79 ans': ['70–79',\t'≥ 18'],\n",
    "    '> 80 ans': ['80',\t'≥ 18'],\n",
    "    'Nulle': '1.4',\n",
    "    'Faible': '1.6',\n",
    "    'Régulière': '1.8',\n",
    "    'Quotidienne': '2.0',\n",
    "    'Homme': ['Male', 'Both genders'],\n",
    "    'Femme': ['Female', 'Both genders'],\n",
    "    'Je suis enceinte': 'Pregnant women',\n",
    "    \"J'allaite\" : 'Lactating women'\n",
    "}\n"
   ]
  },
  {
   "cell_type": "code",
   "execution_count": 3,
   "id": "24a14917-14c0-4449-ba8a-2c7873707c22",
   "metadata": {},
   "outputs": [
    {
     "name": "stdout",
     "output_type": "stream",
     "text": [
      "{'age': ['15', '14-17', '15-17', '11-17', '10-17'], 'sexe': ['Male', 'Both genders'], 'activité physique': '1.8', 'spécificités': 'Pregnant women'}\n"
     ]
    }
   ],
   "source": [
    "def modifier_dic_profil(dic_profil):\n",
    "\n",
    "    for cle, valeur in dic_profil.items():\n",
    "        if cle == \"age\" and valeur in mon_dictionnaire:\n",
    "            dic_profil[cle] = mon_dictionnaire[valeur]\n",
    "        elif cle in mon_dictionnaire:\n",
    "            dic_profil[cle] = mon_dictionnaire[valeur]\n",
    "            \n",
    "    for cle, valeur in dic_profil.items():\n",
    "        if cle == \"sexe\" and valeur in mon_dictionnaire:\n",
    "            dic_profil[cle] = mon_dictionnaire[valeur]\n",
    "        elif cle in mon_dictionnaire:\n",
    "            dic_profil[cle] = mon_dictionnaire[valeur]\n",
    "\n",
    "    for cle, valeur in dic_profil.items():\n",
    "        if cle == \"activité physique\" and valeur in mon_dictionnaire:\n",
    "            dic_profil[cle] = mon_dictionnaire[valeur]\n",
    "        elif cle in mon_dictionnaire:\n",
    "            dic_profil[cle] = mon_dictionnaire[valeur]\n",
    "            \n",
    "    for cle, valeur in dic_profil.items():\n",
    "        if cle == \"spécificités\" and valeur in mon_dictionnaire:\n",
    "            dic_profil[cle] = mon_dictionnaire[valeur]\n",
    "        elif cle in mon_dictionnaire:\n",
    "            dic_profil[cle] = mon_dictionnaire[valeur]\n",
    "    \n",
    "    return dic_profil\n",
    "\n",
    "# Exemple d'utilisation :\n",
    "dic_profil = {\"age\": '15 ans', \"sexe\": 'Homme', 'activité physique': 'Régulière', \"spécificités\": 'Je suis enceinte'}\n",
    "nouveau_dic_profil = modifier_dic_profil(dic_profil)\n",
    "print(nouveau_dic_profil)\n"
   ]
  },
  {
   "cell_type": "code",
   "execution_count": 4,
   "id": "17ce910b-eac0-470f-ac81-ec29269702f3",
   "metadata": {},
   "outputs": [
    {
     "name": "stdout",
     "output_type": "stream",
     "text": [
      "Les résultats de la recherche ont été enregistrés dans 'resultats_recherche.csv'.\n"
     ]
    }
   ],
   "source": [
    "import csv\n",
    "\n",
    "def recherche_dans_csv(fichier_csv, colonne, valeurs_recherchees, fichier_resultat):\n",
    "    resultats = []\n",
    "\n",
    "    with open(fichier_csv, newline='', encoding='utf-8') as csvfile:\n",
    "        lecteur_csv = csv.DictReader(csvfile)\n",
    "        for ligne in lecteur_csv:\n",
    "            if colonne in ligne and ligne[colonne] in valeurs_recherchees:\n",
    "                resultats.append(ligne)\n",
    "\n",
    "    if resultats:\n",
    "        with open(fichier_resultat, 'w', newline='', encoding='utf-8') as result_csvfile:\n",
    "            champs = resultats[0].keys()\n",
    "            ecrivain_csv = csv.DictWriter(result_csvfile, fieldnames=champs)\n",
    "            ecrivain_csv.writeheader()\n",
    "            ecrivain_csv.writerows(resultats)\n",
    "        print(f\"Les résultats de la recherche ont été enregistrés dans '{fichier_resultat}'.\")\n",
    "    else:\n",
    "        print(f\"Aucun résultat trouvé pour {colonne} parmi les valeurs spécifiées.\")\n",
    "\n",
    "# Exemple d'utilisation :\n",
    "fichier_csv = 'nouveau_fichier_DRVs.csv'  # Remplacez cela par le chemin de votre fichier CSV\n",
    "colonne_recherchee = \"Years\"\n",
    "valeurs_recherchees = ['40–49',\t'≥ 18']\n",
    "fichier_resultat = 'resultats_recherche.csv'  # Nom du fichier de résultats\n",
    "\n",
    "recherche_dans_csv(fichier_csv, colonne_recherchee, valeurs_recherchees, fichier_resultat)\n"
   ]
  },
  {
   "cell_type": "code",
   "execution_count": 41,
   "id": "ae4fb7f5-d831-4bfc-a376-f3ec87ffca06",
   "metadata": {},
   "outputs": [
    {
     "name": "stdout",
     "output_type": "stream",
     "text": [
      "Le fichier final a été enregistré dans 'resultats_recherche_final.csv'.\n"
     ]
    }
   ],
   "source": [
    "import csv\n",
    "import pandas as pd\n",
    "\n",
    "def recherche_dans_csv(fichier_csv, colonne, valeurs_recherchees, fichier_resultat):\n",
    "    resultats = []\n",
    "\n",
    "    with open(fichier_csv, newline='', encoding='utf-8') as csvfile:\n",
    "        lecteur_csv = csv.DictReader(csvfile)\n",
    "        for ligne in lecteur_csv:\n",
    "            if colonne in ligne and ligne[colonne] in valeurs_recherchees:\n",
    "                resultats.append(ligne)\n",
    "\n",
    "    return resultats\n",
    "\n",
    "# Exemple d'utilisation :\n",
    "fichier_csv = 'nouveau_fichier_DRVs.csv'\n",
    "fichier_resultat = 'resultats_recherche.csv'\n",
    "\n",
    "# Recherche pour la colonne \"Years\"\n",
    "colonne_recherchee_years = \"Years\"\n",
    "valeurs_recherchees_years = ['15', '14-17', '15-17', '11-17', '10-17']\n",
    "resultats_years = recherche_dans_csv(fichier_csv, colonne_recherchee_years, valeurs_recherchees_years, fichier_resultat)\n",
    "\n",
    "# Recherche pour la colonne \"Gender\"\n",
    "colonne_recherchee_gender = \"Gender\"\n",
    "valeurs_recherchees_gender = ['Male', 'Both genders']\n",
    "resultats_gender = recherche_dans_csv(fichier_csv, colonne_recherchee_gender, valeurs_recherchees_gender, fichier_resultat)\n",
    "\n",
    "# Convertir les résultats en DataFrames pandas\n",
    "df_years = pd.DataFrame(resultats_years)\n",
    "df_gender = pd.DataFrame(resultats_gender)\n",
    "\n",
    "# Fusionner les résultats avec un merge sans spécifier de colonne commune\n",
    "df_resultats = pd.merge(df_years, df_gender, how='inner')\n",
    "\n",
    "# Enregistrer le résultat du join dans un fichier CSV\n",
    "fichier_resultat_final = 'resultats_recherche_final.csv'\n",
    "df_resultats.to_csv(fichier_resultat_final, index=False)\n",
    "\n",
    "print(f\"Le fichier final a été enregistré dans '{fichier_resultat_final}'.\")\n"
   ]
  },
  {
   "cell_type": "code",
   "execution_count": 43,
   "id": "843d78fa-c043-4c3e-bcf8-f0cc41a60ae1",
   "metadata": {},
   "outputs": [
    {
     "name": "stdout",
     "output_type": "stream",
     "text": [
      "DataFrame filtré pour PAL:\n",
      "    Category                    Nutrient Target population               Age  \\\n",
      "2     Energy                      Energy          Children  15 years PAL=2.0   \n",
      "3    Protein                     Protein          Children          15 years   \n",
      "4      Water                       Water          Children       14-17 years   \n",
      "5   Minerals                     Calcium          Children       11-17 years   \n",
      "6   Minerals                   Magnesium          Children       10-17 years   \n",
      "7   Minerals                   Manganese          Children       15-17 years   \n",
      "8   Minerals                   Potassium          Children       15-17 years   \n",
      "9   Minerals                      Sodium          Children       11-17 years   \n",
      "10  Vitamins                  Vitamin B6          Children       15-17 years   \n",
      "11  Vitamins                   Vitamin C          Children       15-17 years   \n",
      "12  Vitamins                   Vitamin D          Children       15-17 years   \n",
      "13  Vitamins                   Vitamin E          Children       15-17 years   \n",
      "14  Vitamins  Vitamin K as phylloquinone          Children       15-17 years   \n",
      "\n",
      "          Gender           AI                    AR                   PRI  \\\n",
      "2           Male          NA            14.1 MJ/day                  NA.    \n",
      "3           Male          NA   0.72 g/kg bw per day  0.88 g/kg bw per day   \n",
      "4           Male    2.5 L/day                   NA                    NA    \n",
      "5   Both genders          NA             960 mg/day           1150 mg/day   \n",
      "6           Male   300 mg/day                   NA                    NA    \n",
      "7   Both genders     3 mg/day                   NA                    NA    \n",
      "8   Both genders  3500 mg/day                   NA                    NA    \n",
      "9   Both genders          NA                    NA                    NA    \n",
      "10          Male          NA             1.5 mg/day            1.7 mg/day   \n",
      "11          Male          NA              85 mg/day            100 mg/day   \n",
      "12  Both genders    15 μg/day                   NA                    NA    \n",
      "13          Male    13 mg/day                   NA                    NA    \n",
      "14  Both genders    65 μg/day                   NA                    NA    \n",
      "\n",
      "     RI          UL Safe and adequate intake  Years  PAL  \n",
      "2   NA          NA                       NaN     15  2.0  \n",
      "3   NA          NA                       NaN     15  NaN  \n",
      "4   NA          NA                       NaN  14-17  NaN  \n",
      "5   NA          ND                       NaN  11-17  NaN  \n",
      "6   NA   250 mg/day                      NaN  10-17  NaN  \n",
      "7   NA          ND                       NaN  15-17  NaN  \n",
      "8   NA          ND                       NaN  15-17  NaN  \n",
      "9   NA          ND                   2 g/day  11-17  NaN  \n",
      "10  NA    20 mg/day                      NaN  15-17  NaN  \n",
      "11  NA          ND                       NaN  15-17  NaN  \n",
      "12  NA   100 μg/day                      NaN  15-17  NaN  \n",
      "13  NA   260 mg/day                      NaN  15-17  NaN  \n",
      "14  NA          ND                       NaN  15-17  NaN  \n",
      "La valeur de 'data' n'est pas égale à 'Pregnant women'. La fonction de filtrage ne sera pas exécutée.\n"
     ]
    }
   ],
   "source": [
    "import pandas as pd\n",
    "\n",
    "# Charger le fichier CSV résultant\n",
    "df_resultats = pd.read_csv('resultats_recherche_final.csv')\n",
    "\n",
    "# Entrer la valeur de PAL que vous recherchez\n",
    "valeur_pal_recherchee = '2.0'  # Remplacez cela par la valeur que vous recherchez\n",
    "\n",
    "# Filtrer le DataFrame pour les valeurs de PAL spécifiées\n",
    "df_filtre_pal = df_resultats[df_resultats['PAL'].astype(str).isin([valeur_pal_recherchee, '']) | df_resultats['PAL'].isna()]\n",
    "\n",
    "# Afficher le DataFrame résultant pour PAL\n",
    "print(\"DataFrame filtré pour PAL:\")\n",
    "print(df_filtre_pal)\n",
    "\n",
    "def filtrer_dataframe(df_filtre_pal):\n",
    "    # Filtrer les lignes selon la condition spécifiée\n",
    "    condition = (\n",
    "        (df_filtre_pal['Target population'] == 'Pregnant women') |\n",
    "        ((df_filtre_pal['Target population'] != 'Lactating women') & ~((df_filtre_pal['Nutrient'] == 'Energy') | (df_filtre_pal['Nutrient'] == 'Protein')))\n",
    "    )\n",
    "    df_filtre = df_filtre_pal[condition]\n",
    "\n",
    "    return df_filtre\n",
    "\n",
    "# Vérifier si la valeur de 'data' est égale à 'Pregnant women' avant d'appeler la fonction\n",
    "valeur_data = 'Pregnant women'\n",
    "if df_resultats['Target population'].any() == valeur_data:\n",
    "    # Appliquer la fonction de filtrage supplémentaire\n",
    "    df_filtre_final = filtrer_dataframe(df_filtre_pal)\n",
    "\n",
    "    # Afficher le DataFrame final après le filtrage supplémentaire\n",
    "    print(\"\\nDataFrame final après filtrage supplémentaire:\")\n",
    "    print(df_filtre_final)\n",
    "else:\n",
    "    print(f\"La valeur de 'data' n'est pas égale à '{valeur_data}'. La fonction de filtrage ne sera pas exécutée.\")\n"
   ]
  },
  {
   "cell_type": "code",
   "execution_count": null,
   "id": "39a9a871-e0bd-41f1-9f93-fde4590bf6ab",
   "metadata": {},
   "outputs": [],
   "source": []
  }
 ],
 "metadata": {
  "kernelspec": {
   "display_name": "Python 3 (ipykernel)",
   "language": "python",
   "name": "python3"
  },
  "language_info": {
   "codemirror_mode": {
    "name": "ipython",
    "version": 3
   },
   "file_extension": ".py",
   "mimetype": "text/x-python",
   "name": "python",
   "nbconvert_exporter": "python",
   "pygments_lexer": "ipython3",
   "version": "3.10.13"
  }
 },
 "nbformat": 4,
 "nbformat_minor": 5
}
