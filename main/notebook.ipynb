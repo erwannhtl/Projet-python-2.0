{
 "cells": [
  {
   "cell_type": "markdown",
   "id": "eaded2b3-a530-4d0e-93de-fa1da1992827",
   "metadata": {},
   "source": [
    "# **Projet Python 2A**\n",
    "Erwann Hotellier • Alexia Duclert • Juliette Schneider\n",
    "\n",
    "*Ce projet est réalisé dans le cadre du cours de Python de Lino Galiana pour l'année 2023-2024.*"
   ]
  },
  {
   "cell_type": "markdown",
   "id": "16dd3656-a84f-4070-ab64-4159f2185da0",
   "metadata": {},
   "source": [
    "## Introduction\n",
    "\n",
    "**L'objectif** de notre programme est de proposer un choix de quatre cocktails optimaux selon le profil et les goûts de l'utilisateur. Il se décompose en quatre grandes étapes :\n",
    "\n",
    "- Étape 1 : extraction de recettes en scrappant le site \"1 ou 2 cocktails\"\n",
    "- Étape 2 : identification des cocktails et de leurs apports nutritifs grâce à la base Ciqual\n",
    "- Étape 3 : identification des besoins nutritifs journaliers de l'individu selon son profil grâce à la base DRV\n",
    "- Étape 4 : interface pour l'utilisateur et affichage des résultats"
   ]
  },
  {
   "cell_type": "markdown",
   "id": "f0a50b6a-082b-4b3e-aeb2-2feec917a79a",
   "metadata": {},
   "source": [
    "## Structure du répertoire\n",
    "\n",
    "À la racine du répertoire, on trouve :\n",
    "- **`main.py`** : rassemble les principales fonctions du programme, notamment la fonction `main` qui permet d'exécuter le programme en entier.\n",
    "- **`requirements.txt`** : liste des modules Python requis\n",
    "- **`README.md`** : présentation détaillée du projet\n",
    "- **`notebook.ipynb`** : visite guidée des principales fonctions du répertoire et exemples\n",
    "- le dossier **`webscrapping`** dans lequel on trouve : ?? j'arrive pas à l'ouvrir\n",
    "- le dossier **`nettoyage`** : ce dossier contient le code qui nettoie la base de données des cocktails et la joint à la base Ciqual\n",
    "- le dossier **`statistiques`** : ce dossier contient le code étudiant les besoins en kcal selon l'âge, le sexe et l'activité physique de la personne. Ces statistiques nous ont conforté dans la pertinence d'étudier les apports des cocktails en fonction du profil, afin de mettre en avant les potentielles disparités.\n",
    "- dossier d'erwann sur les résultats ??\n",
    "- le dossier **`interface tkinter`** : ce dossier contient le code créant l'interface avec l'utilisateur, afin de récupérer les informations nécessaire pour le choix des cocktails."
   ]
  },
  {
   "cell_type": "markdown",
   "id": "b0df7620-185f-4b62-8d0b-1d82017dd014",
   "metadata": {},
   "source": [
    "## Installation\n",
    "\n",
    "Les modules Python utilisés par le programme sont précisés dans le fichier **`requirements.txt`**. Il faut donc les installer."
   ]
  },
  {
   "cell_type": "code",
   "execution_count": 1,
   "id": "25f5e40f-94f9-4597-a550-e6eb3eac0b7c",
   "metadata": {},
   "outputs": [
    {
     "name": "stdout",
     "output_type": "stream",
     "text": [
      "\u001b[31mERROR: Could not open requirements file: [Errno 2] No such file or directory: 'requirements.txt'\u001b[0m\u001b[31m\n",
      "\u001b[0m"
     ]
    }
   ],
   "source": [
    "!pip install -r requirements.txt"
   ]
  },
  {
   "cell_type": "markdown",
   "id": "0c88dfe6-ff51-477a-bf6e-56bb1025e84a",
   "metadata": {},
   "source": [
    "## Fonctionnement global\n",
    "\n",
    "Pour utiliser le programme, il suffit d'importer la fonction `main` du fichier **`main.py`**. (argument, résultat ..)"
   ]
  },
  {
   "cell_type": "markdown",
   "id": "468135b5-a87c-4335-9328-2297aeb39f60",
   "metadata": {},
   "source": [
    "## Étape 1: extraction des recettes de cocktail en scrappant le site \"1 ou 2 cocktails\"\n",
    "\n",
    "La fonction qui réalise le scrapping est la fonction `?` du fichier **`webscrapping.ipynb`** du dossier **`webscrapping`**.\n",
    "\n",
    "**Arguments**\n",
    "\n",
    "Elle prend en argument....\n",
    "\n",
    "\n",
    "**Sorties**\n",
    "\n",
    "Elle renvoie ....\n",
    "\n",
    "\n",
    "**Difficultés rencontrées**\n",
    "\n",
    "\n",
    "\n",
    "\n",
    "**Limites du scrapper**\n",
    "\n",
    "Dans la partie scrapping, certaines simplifications ont été nécessaires pour mener à bien notre projet. \n",
    "conversion d'ingrédients, simplification de noms propres"
   ]
  },
  {
   "cell_type": "code",
   "execution_count": 2,
   "id": "c028c87e-a048-40fa-ab90-2f2a0ad7948a",
   "metadata": {},
   "outputs": [],
   "source": [
    "#ligne de code pour montrer la sortie du webscrapping, par exemple df.head() si c'est un tableau panda "
   ]
  },
  {
   "cell_type": "markdown",
   "id": "a9ab45e2-bb68-4339-a6d4-54f16f11b379",
   "metadata": {},
   "source": [
    "## Etape 2: identification des cocktails et de leurs apports nutritifs grâce à la base Ciqual\n",
    "\n",
    "À partir de la sortie des cocktails obtenue via le scrapper, nous devons obtenir l'apport énergétique d'un cocktail.\n",
    "\n",
    "La deuxième étape consiste à chercher les ingrédients du cocktails dans la base Ciqual correspondant au mieux aux aliments de notre recette.\n",
    "Les fonctions associées à cette étape se trouvent dans le fichier **`?`** du dossier **`?`**.\n",
    "\n",
    "Il s'agit tout d'abord d'importer et de nettoyer la base de données Ciqual."
   ]
  },
  {
   "cell_type": "code",
   "execution_count": 3,
   "id": "c18c4199-ede6-43c2-9ce1-627665de369b",
   "metadata": {},
   "outputs": [],
   "source": [
    "#from tel fichier import telle fonction\n",
    "#base ciqual.head()"
   ]
  },
  {
   "cell_type": "markdown",
   "id": "90f4981d-2d64-4342-9e08-678b1444a18a",
   "metadata": {},
   "source": [
    "Ensuite, il faut identifier les aliments utilisés dans les recettes de cocktails aux aliments de la base Ciqual...\n",
    "\n",
    "On obtient l'apport nutritif...\n",
    "\n",
    "A la fin la fonction nous ressort l'apport en ?,?,? du cocktail."
   ]
  },
  {
   "cell_type": "code",
   "execution_count": 4,
   "id": "0a53012c-2085-4ffc-811a-72cc35f0ac59",
   "metadata": {},
   "outputs": [],
   "source": [
    "#afficher résultats à toutes les étapes"
   ]
  },
  {
   "cell_type": "markdown",
   "id": "0a778d14-912c-4028-83a1-432ef9320744",
   "metadata": {},
   "source": [
    "**Limites**\n",
    "\n",
    "Parler du faible nombre de correspondance entre les ingrédients qui peut fausser le résultat. Le NLP pourrait aider au matching, ou besoin de compléter la base Ciqual"
   ]
  },
  {
   "cell_type": "markdown",
   "id": "de40e523-3156-4782-88c9-32fc2695dbde",
   "metadata": {},
   "source": [
    "## Etape 3: identification des besoins nutritifs journaliers de l'individu selon son profil, grâce à la base DRV\n",
    "\n",
    "Maintenant que nous avons obtenu les apports nutritifs de chaque cocktail, nous devons maintenant trouver les besoins énergétiques propres à chaque individu. Cela nous permettra de comparer les apports du cocktail choisi par rapport aux apports conseillés.\n",
    "\n",
    "définition des classes d'individus, pourquoi certaines pertinentes et certaines non\n",
    "\n",
    "variables énergétiques gardées, d'autre supprimées : à justifier \n",
    "\n",
    "calcul des apports par profil, ou déjà dans la base ?"
   ]
  },
  {
   "cell_type": "code",
   "execution_count": 5,
   "id": "3092d906-d64c-4e89-b835-f5dcff4e4f17",
   "metadata": {},
   "outputs": [],
   "source": [
    "#afficher resultat, base.head() si ouverte en panda, graphique des apports énergétiques si fait"
   ]
  },
  {
   "cell_type": "code",
   "execution_count": 6,
   "id": "4be2d6a9-17f7-4363-a375-0c1ee9e82d93",
   "metadata": {},
   "outputs": [],
   "source": [
    "#appeler le fichier statistique d'alexia pour montrer les différences"
   ]
  },
  {
   "cell_type": "markdown",
   "id": "d08fa82b-8908-4874-88bc-bb936ab09675",
   "metadata": {},
   "source": [
    "## Étape 4 : interface pour l'utilisateur et affichage des résultats \n",
    "\n",
    "L'objectif de cette dernière partie est :\n",
    "\n",
    "- de récupérer des données sur le profil de l'utilisateur (âge, sexe, condition physique, poids...) afin de déterminer ses apports énergétiques conseillés grâce à la partie précédente.\n",
    "- de récupérer des données sur les goûts de l'utilisatuer (cocktail avec ou sans alcool, choix des ingrédients ou des alcools qu'il ne veut pas) afin de lui proposer une sélection de quatre cocktails sur mesure.\n",
    "- d'afficher les résultats à l'utilisateur, en lui montrant les cocktails choisis pour lui, ainsi qu'un graphique par cocktail lui permettant de comparer les apports du cocktail avec ses besoins journaliers.\n",
    "\n",
    "Par souci de reproductibilité et format attendu du projet, les fenêtres tkinter ne seront pas appelées dans la suite du `notebook.ipynb`. \n",
    "La sélection des cocktails et présentation graphique des résultats sera présentée pour des profils et des exigences de goûts sélectionnés aléatoirement. "
   ]
  },
  {
   "cell_type": "code",
   "execution_count": 7,
   "id": "12d648e4-3f70-422a-ad26-b527f2be6429",
   "metadata": {},
   "outputs": [],
   "source": [
    "#présentation de selection cocktail et création graphique"
   ]
  },
  {
   "cell_type": "code",
   "execution_count": null,
   "id": "8a8523d2-5304-4d8d-b65a-3e240670e434",
   "metadata": {},
   "outputs": [],
   "source": []
  },
  {
   "cell_type": "code",
   "execution_count": null,
   "id": "540f37a9-4f94-4c83-8fb8-2ac144a66e1c",
   "metadata": {},
   "outputs": [],
   "source": []
  }
 ],
 "metadata": {
  "kernelspec": {
   "display_name": "Python 3 (ipykernel)",
   "language": "python",
   "name": "python3"
  },
  "language_info": {
   "codemirror_mode": {
    "name": "ipython",
    "version": 3
   },
   "file_extension": ".py",
   "mimetype": "text/x-python",
   "name": "python",
   "nbconvert_exporter": "python",
   "pygments_lexer": "ipython3",
   "version": "3.10.13"
  }
 },
 "nbformat": 4,
 "nbformat_minor": 5
}
