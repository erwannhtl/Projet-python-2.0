{
 "cells": [
  {
   "cell_type": "markdown",
   "id": "eaded2b3-a530-4d0e-93de-fa1da1992827",
   "metadata": {},
   "source": [
    "# **Projet Python 2A**\n",
    "Erwann Hotellier • Alexia Duclert • Juliette Schneider\n",
    "\n",
    "*Ce projet est réalisé dans le cadre du cours de Python de Lino Galiana pour l'année 2023-2024.*"
   ]
  },
  {
   "cell_type": "markdown",
   "id": "16dd3656-a84f-4070-ab64-4159f2185da0",
   "metadata": {},
   "source": [
    "## Introduction\n",
    "\n",
    "**L'objectif** de notre programme est de proposer un choix de quatre cocktails optimaux selon le profil et les goûts de l'utilisateur. Il se décompose en quatre grandes étapes :\n",
    "\n",
    "- Étape 1 : extraction de recettes en scrappant le site \"1 ou 2 cocktails\"\n",
    "- Étape 2 : identification des cocktails et de leurs apports nutritifs grâce à la base Ciqual\n",
    "- Étape 3 : identification des besoins nutritifs journaliers de l'individu selon son profil grâce à la base DRV\n",
    "- Étape 4 : interface pour l'utilisateur et affichage des résultats"
   ]
  },
  {
   "cell_type": "markdown",
   "id": "f0a50b6a-082b-4b3e-aeb2-2feec917a79a",
   "metadata": {},
   "source": [
    "## Structure du répertoire\n",
    "\n",
    "À la racine du répertoire, on trouve :\n",
    "- **`main.py`** : rassemble les principales fonctions du programme, notamment la fonction `main` qui permet d'exécuter le programme en entier.\n",
    "- **`requirements.txt`** : liste des modules Python requis\n",
    "- **`README.md`** : présentation détaillée du projet\n",
    "- **`notebook.ipynb`** : visite guidée des principales fonctions du répertoire et exemples\n",
    "- le dossier **`webscrapping`** dans lequel on trouve : ?? j'arrive pas à l'ouvrir\n",
    "- le dossier **`nettoyage`** : ce dossier contient le code qui nettoie la base de données des cocktails et la joint à la base Ciqual\n",
    "- le dossier **`statistiques`** : ce dossier contient le code étudiant les besoins en kcal selon l'âge, le sexe et l'activité physique de la personne. Ces statistiques nous ont conforté dans la pertinence d'étudier les apports des cocktails en fonction du profil, afin de mettre en avant les potentielles disparités.\n",
    "- dossier d'erwann sur les résultats ??\n",
    "- le dossier **`interface tkinter`** : ce dossier contient le code créant l'interface avec l'utilisateur, afin de récupérer les informations nécessaire pour le choix des cocktails."
   ]
  },
  {
   "cell_type": "markdown",
   "id": "b0df7620-185f-4b62-8d0b-1d82017dd014",
   "metadata": {},
   "source": [
    "## Installation\n",
    "\n",
    "Les modules Python utilisés par le programme sont précisés dans le fichier **`requirements.txt`**. Il faut donc les installer."
   ]
  },
  {
   "cell_type": "code",
   "execution_count": null,
   "id": "25f5e40f-94f9-4597-a550-e6eb3eac0b7c",
   "metadata": {},
   "outputs": [],
   "source": [
    "!pip install -r requirements.txt"
   ]
  },
  {
   "cell_type": "markdown",
   "id": "0c88dfe6-ff51-477a-bf6e-56bb1025e84a",
   "metadata": {},
   "source": [
    "## Fonctionnement global\n",
    "\n",
    "Pour utiliser le programme, il suffit d'importer la fonction `main` du fichier **`main.py`**. (argument, résultat ..)"
   ]
  },
  {
   "cell_type": "code",
   "execution_count": null,
   "id": "ea137dec-bb53-45c7-b1d2-b6264dd199e8",
   "metadata": {},
   "outputs": [],
   "source": []
  }
 ],
 "metadata": {
  "kernelspec": {
   "display_name": "Python 3 (ipykernel)",
   "language": "python",
   "name": "python3"
  },
  "language_info": {
   "codemirror_mode": {
    "name": "ipython",
    "version": 3
   },
   "file_extension": ".py",
   "mimetype": "text/x-python",
   "name": "python",
   "nbconvert_exporter": "python",
   "pygments_lexer": "ipython3",
   "version": "3.10.13"
  }
 },
 "nbformat": 4,
 "nbformat_minor": 5
}
