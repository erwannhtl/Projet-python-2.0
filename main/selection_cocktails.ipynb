{
 "cells": [
  {
   "cell_type": "code",
   "execution_count": 12,
   "id": "707ad6ae-d619-4fc5-9da7-7c1fd70d7486",
   "metadata": {},
   "outputs": [
    {
     "name": "stdout",
     "output_type": "stream",
     "text": [
      "Le fichier Excel a été converti en CSV avec succès. Chemin du fichier CSV : base_aliments_cocktails.csv\n"
     ]
    }
   ],
   "source": [
    "import pandas as pd\n",
    "\n",
    "# Chemin du fichier Excel à lire\n",
    "chemin_fichier_excel = 'base_aliments_cocktails.xlsx'\n",
    "\n",
    "# Charger le fichier Excel dans un DataFrame pandas\n",
    "df = pd.read_excel(chemin_fichier_excel)\n",
    "\n",
    "# Chemin où vous souhaitez sauvegarder le fichier CSV\n",
    "chemin_fichier_csv = 'base_aliments_cocktails.csv'\n",
    "\n",
    "# Sauvegarder le DataFrame au format CSV\n",
    "df.to_csv(chemin_fichier_csv, index=False)\n",
    "\n",
    "print(f'Le fichier Excel a été converti en CSV avec succès. Chemin du fichier CSV : {chemin_fichier_csv}')"
   ]
  },
  {
   "cell_type": "code",
   "execution_count": null,
   "id": "438751ab-6b84-4d83-a4cb-bb2905ed76a5",
   "metadata": {},
   "outputs": [],
   "source": []
  }
 ],
 "metadata": {
  "kernelspec": {
   "display_name": "Python 3 (ipykernel)",
   "language": "python",
   "name": "python3"
  },
  "language_info": {
   "codemirror_mode": {
    "name": "ipython",
    "version": 3
   },
   "file_extension": ".py",
   "mimetype": "text/x-python",
   "name": "python",
   "nbconvert_exporter": "python",
   "pygments_lexer": "ipython3",
   "version": "3.10.13"
  }
 },
 "nbformat": 4,
 "nbformat_minor": 5
}
