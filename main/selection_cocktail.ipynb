{
 "cells": [
  {
   "cell_type": "code",
   "execution_count": null,
   "id": "65145ba9-cd6c-4329-b741-917e16a58df8",
   "metadata": {},
   "outputs": [],
   "source": [
    "from interface import liste_unique"
   ]
  },
  {
   "cell_type": "code",
   "execution_count": 4,
   "id": "22b1ac40-b81a-4383-9618-ad706645f228",
   "metadata": {},
   "outputs": [
    {
     "name": "stdout",
     "output_type": "stream",
     "text": [
      "Le fichier Excel a été converti en CSV avec succès. Chemin du fichier CSV : aliments_selection.csv\n"
     ]
    }
   ],
   "source": [
    "import pandas as pd\n",
    "\n",
    "# Chemin du fichier Excel à lire\n",
    "chemin_fichier_excel = 'aliments_selection.xlsx'\n",
    "\n",
    "# Charger le fichier Excel dans un DataFrame pandas en spécifiant à partir de quelle ligne commencer\n",
    "df = pd.read_excel(chemin_fichier_excel, engine='openpyxl')\n",
    "\n",
    "# Chemin où vous souhaitez sauvegarder le fichier CSV\n",
    "chemin_fichier_csv = 'aliments_selection.csv'\n",
    "\n",
    "# Sauvegarder le DataFrame au format CSV\n",
    "df.to_csv(chemin_fichier_csv, index=False)\n",
    "\n",
    "print(f'Le fichier Excel a été converti en CSV avec succès. Chemin du fichier CSV : {chemin_fichier_csv}')\n"
   ]
  },
  {
   "cell_type": "code",
   "execution_count": 13,
   "id": "4b233b12-95e2-499b-86fd-304fbf1fadd9",
   "metadata": {},
   "outputs": [
    {
     "name": "stdout",
     "output_type": "stream",
     "text": [
      "          objectID                      post_title  \\\n",
      "0    cocktail_1002  Café amande et liqueur d'herbe   \n",
      "1    cocktail_1009                     Moscow Mule   \n",
      "2     cocktail_101                    Piña de Caña   \n",
      "3    cocktail_1013   Tropikante rhum & melon d'eau   \n",
      "4    cocktail_1018      Vodka Cantaloup & Prosecco   \n",
      "..             ...                             ...   \n",
      "384   cocktail_970       Gin-Tonic et Pamplemousse   \n",
      "385   cocktail_974              Chai Whisky Masala   \n",
      "386   cocktail_981         Martini au Jus d’Huître   \n",
      "387   cocktail_986                Reverse Martinez   \n",
      "388   cocktail_995                     Rose Garden   \n",
      "\n",
      "                                                   url  \\\n",
      "0    https://1ou2cocktails.com/cocktails/cafe-amand...   \n",
      "1     https://1ou2cocktails.com/cocktails/moscow-mule/   \n",
      "2    https://1ou2cocktails.com/cocktails/pina-de-cana/   \n",
      "3    https://1ou2cocktails.com/cocktails/tropikante...   \n",
      "4    https://1ou2cocktails.com/cocktails/vodka-cant...   \n",
      "..                                                 ...   \n",
      "384  https://1ou2cocktails.com/cocktails/gin-tonic-...   \n",
      "385  https://1ou2cocktails.com/cocktails/chai-whisk...   \n",
      "386  https://1ou2cocktails.com/cocktails/martini-au...   \n",
      "387  https://1ou2cocktails.com/cocktails/reverse-ma...   \n",
      "388   https://1ou2cocktails.com/cocktails/rose-garden/   \n",
      "\n",
      "                                           Ingrédients  \n",
      "0    [liqueur, café chaud, crème fouettée, effilées...  \n",
      "1       [vodka, jus lime frais, bière gingembre, lime]  \n",
      "2    [rhum brun, jus citron frais, jus orange frais...  \n",
      "3    [rhum, jus melon, jus lime frais, sirop simple...  \n",
      "4    [vodka, jus lime frais, sirop, cantaloup, vin ...  \n",
      "..                                                 ...  \n",
      "384   [gin bleu, jus pamplemousse frais, soda tonique]  \n",
      "385  [whisky canadien royal, chai infusé, jus citro...  \n",
      "386        [vodka, vodka, sec, le jus huître, fraîche]  \n",
      "387                            [apéritif, gin, citron]  \n",
      "388  [apéritif, jus citron frais, sirop simple, eau...  \n",
      "\n",
      "[389 rows x 4 columns]\n"
     ]
    }
   ],
   "source": [
    "import pandas as pd\n",
    "\n",
    "# Charger le fichier CSV dans un DataFrame pandas\n",
    "chemin_fichier_csv = 'aliments_selection.csv'  # Assurez-vous de spécifier le chemin correct\n",
    "df = pd.read_csv(chemin_fichier_csv)\n",
    "\n",
    "# Sélectionner les colonnes nécessaires\n",
    "resultat = df[['objectID', 'url', 'post_title', 'Nom']]\n",
    "\n",
    "# Grouper les résultats par objectID et construire une liste d'ingrédients pour chaque cocktail\n",
    "resultat_groupé = resultat.groupby('objectID').agg({'post_title': 'first', 'url': 'first', 'Nom': list}).reset_index()\n",
    "\n",
    "# Renommer la colonne 'Nom' en 'Ingrédients'\n",
    "resultat_groupé = resultat_groupé.rename(columns={'Nom': 'Ingrédients'})\n",
    "\n",
    "# Afficher ou sauvegarder les résultats\n",
    "print(resultat_groupé)\n",
    "# resultat_groupé.to_csv('liste_ingrédients_par_cocktail.csv', index=False)  # Sauvegarder les résultats dans un nouveau fichier CSV si nécessaire\n"
   ]
  },
  {
   "cell_type": "code",
   "execution_count": null,
   "id": "cc5937c8-0a23-466e-91fe-6431f8ed04b4",
   "metadata": {},
   "outputs": [],
   "source": [
    "import pandas as pd\n",
    "\n",
    "def eliminer_cocktails(df, elements_elimines):\n",
    "    # Liste des indices des lignes à supprimer\n",
    "    indices_a_supprimer = []\n",
    "\n",
    "    # Parcours de chaque liste d'ingrédients\n",
    "    for index, row in df.iterrows():\n",
    "        # Liste d'ingrédients du cocktail actuel\n",
    "        ingredients_cocktail = row['Ingrédients']\n",
    "\n",
    "        # Vérifie si un ingrédient de la recette est également dans la liste elements_elimines\n",
    "        if any(any(elim.lower() in ingredient.lower() for elim in elements_elimines) for ingredient in ingredients_cocktail):\n",
    "            indices_a_supprimer.append(index)\n",
    "\n",
    "    # Suppression des lignes identifiées\n",
    "    df = df.drop(indices_a_supprimer)\n",
    "\n",
    "    return df\n",
    "\n",
    "# Exemple d'utilisation\n",
    "elements_elimines = liste_unique\n",
    "nouveau_dataframe = eliminer_cocktails(resultat_groupé, elements_elimines)\n"
   ]
  },
  {
   "cell_type": "code",
   "execution_count": 17,
   "id": "5b98d537-745a-400c-98aa-1ed3a838deaa",
   "metadata": {},
   "outputs": [
    {
     "name": "stdout",
     "output_type": "stream",
     "text": [
      "          objectID                         post_title  \\\n",
      "9    cocktail_1045                       High & Honey   \n",
      "16   cocktail_1087  Vin blanc chaud pomme et cannelle   \n",
      "17   cocktail_1091                         Miami Vice   \n",
      "26   cocktail_1126            Sour Calvados et Menthe   \n",
      "29   cocktail_1145             Bellini aux framboises   \n",
      "..             ...                                ...   \n",
      "372   cocktail_923                 Bramble à l'érable   \n",
      "374   cocktail_927                           Low-Coco   \n",
      "378   cocktail_938                      Aperol Spritz   \n",
      "381   cocktail_965                          Margarita   \n",
      "383   cocktail_967                    Rhubarbe Spritz   \n",
      "\n",
      "                                                   url  \\\n",
      "9      https://1ou2cocktails.com/cocktails/high-honey/   \n",
      "16   https://1ou2cocktails.com/cocktails/vin-blanc-...   \n",
      "17     https://1ou2cocktails.com/cocktails/miami-vice/   \n",
      "26   https://1ou2cocktails.com/cocktails/sour-calva...   \n",
      "29   https://1ou2cocktails.com/cocktails/bellini-love/   \n",
      "..                                                 ...   \n",
      "372  https://1ou2cocktails.com/cocktails/bramble-a-...   \n",
      "374      https://1ou2cocktails.com/cocktails/low-coco/   \n",
      "378  https://1ou2cocktails.com/cocktails/aperol-spr...   \n",
      "381  https://1ou2cocktails.com/cocktails/margarita-...   \n",
      "383  https://1ou2cocktails.com/cocktails/rhubarbe-s...   \n",
      "\n",
      "                                           Ingrédients  \n",
      "9                 [ans, jus citron frais, déshydratée]  \n",
      "16                        [vin blanc, cannelle, pomme]  \n",
      "17   [rhum, fraises, jus lime frais, jus, crème noi...  \n",
      "26   [calvados grand, jus citron frais, jus pomme b...  \n",
      "29   [purée framboise, purée poire, vin mousseux bl...  \n",
      "..                                                 ...  \n",
      "372  [whisky sortilège whisky, jus citron frais, bi...  \n",
      "374  [liqueur fleur sureau, vermouth sec, eau coco,...  \n",
      "378  [liqueur amère, vin mousseux italien, eau péti...  \n",
      "381         [liqueur, jus lime frais, sel pour givrer]  \n",
      "383  [liqueur rhubarbe maison, vin mousseux, garnit...  \n",
      "\n",
      "[108 rows x 4 columns]\n"
     ]
    }
   ],
   "source": [
    "print(nouveau_dataframe)"
   ]
  },
  {
   "cell_type": "code",
   "execution_count": 18,
   "id": "a9b93200-5c13-4958-8a92-f07822d0bc6d",
   "metadata": {},
   "outputs": [
    {
     "name": "stdout",
     "output_type": "stream",
     "text": [
      "['Piña Colada', \"Bulles d'Automne Pomme & Épices\", \"Sirop d'Orgeat\", 'Rhubarbe Spritz']\n"
     ]
    }
   ],
   "source": [
    "import pandas as pd\n",
    "import random\n",
    "\n",
    "# Votre DataFrame\n",
    "data = nouveau_dataframe\n",
    "\n",
    "df = pd.DataFrame(data)\n",
    "\n",
    "# Fonction pour obtenir 4 noms de cocktails au hasard\n",
    "def obtenir_4_cocktails_au_hasard(dataframe):\n",
    "    noms_cocktails_au_hasard = random.sample(dataframe['post_title'].tolist(), 4)\n",
    "    return noms_cocktails_au_hasard\n",
    "\n",
    "# Appeler la fonction avec le DataFrame\n",
    "noms_cocktails_au_hasard = obtenir_4_cocktails_au_hasard(df)\n",
    "\n",
    "# Afficher les noms de cocktails au hasard\n",
    "print(noms_cocktails_au_hasard)\n"
   ]
  }
 ],
 "metadata": {
  "kernelspec": {
   "display_name": "Python 3 (ipykernel)",
   "language": "python",
   "name": "python3"
  },
  "language_info": {
   "codemirror_mode": {
    "name": "ipython",
    "version": 3
   },
   "file_extension": ".py",
   "mimetype": "text/x-python",
   "name": "python",
   "nbconvert_exporter": "python",
   "pygments_lexer": "ipython3",
   "version": "3.10.13"
  }
 },
 "nbformat": 4,
 "nbformat_minor": 5
}
