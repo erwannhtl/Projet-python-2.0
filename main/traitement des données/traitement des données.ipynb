{
 "cells": [
  {
   "cell_type": "markdown",
   "metadata": {},
   "source": [
    "# Traitement des données\n",
    "\n",
    "Dans cette section, on va traiter les données pour au final, avoir les teneurs en calories, calcium etc de chaques cocktails."
   ]
  },
  {
   "cell_type": "markdown",
   "metadata": {},
   "source": []
  }
 ],
 "metadata": {
  "language_info": {
   "name": "python"
  }
 },
 "nbformat": 4,
 "nbformat_minor": 2
}
